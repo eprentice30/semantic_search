{
 "cells": [
  {
   "cell_type": "code",
   "execution_count": 1,
   "metadata": {
    "collapsed": true
   },
   "outputs": [],
   "source": [
    "import re\n",
    "import requests\n",
    "import pandas as pd\n",
    "import numpy as np\n",
    "import string\n",
    "from string import punctuation\n",
    "from pymongo import MongoClient\n",
    "\n",
    "import matplotlib.pyplot as plt\n",
    "%matplotlib inline\n",
    "\n",
    "import seaborn as sns\n",
    "\n",
    "from IPython.display import display\n",
    "from scipy import stats\n",
    "from sklearn.model_selection import train_test_split\n",
    "\n",
    "%matplotlib inline \n",
    "np.random.seed(42)"
   ]
  },
  {
   "cell_type": "code",
   "execution_count": 2,
   "metadata": {
    "collapsed": true
   },
   "outputs": [],
   "source": [
    "def search_category(category):\n",
    "    \"\"\"\"Returns the json of a page for a specific category\"\"\"\n",
    "    \n",
    "    category = re.sub('\\s', '+', category)\n",
    "    query = 'http://en.wikipedia.org/w/api.php?action=query&format=json&list=categorymembers&cmtitle=Category%3A+{}&cmlimit=max'.format(category)\n",
    "    query_request = requests.get(query)\n",
    "    return query_request.json()\n",
    "\n",
    "def change_to_df(category):\n",
    "    \"\"\"\"Returns the page contents as a DF\"\"\"\n",
    "    \n",
    "    title = search_category(category)['query']['categorymembers']\n",
    "    df = pd.DataFrame(title)\n",
    "    return df\n",
    "\n",
    "def check_if_any_sub_categories(category):\n",
    "    \"\"\"\"Returns true if there are subcategories\"\"\"\n",
    "    \n",
    "    df = change_to_df(category)\n",
    "    if df[df['title'].str.contains('Category:')].any()[0]:\n",
    "        return True\n",
    "    else:\n",
    "        return False\n"
   ]
  },
  {
   "cell_type": "code",
   "execution_count": 3,
   "metadata": {
    "collapsed": true
   },
   "outputs": [],
   "source": [
    "def strip_punctuation(s):\n",
    "    \"\"\"\"Removes all unnecessary punctuation\"\"\"\n",
    "    return ''.join(c for c in s if c not in punctuation)\n",
    "\n",
    "def striphtml(data):\n",
    "    \"\"\"Removes all html\"\"\"\n",
    "    p = re.compile(r'<.*?>')\n",
    "    return p.sub('', data)\n",
    "\n",
    "def get_page_contents(pageid):\n",
    "    \"\"\"Returns cleaned page contents\"\"\"\n",
    "    \n",
    "    query = 'http://en.wikipedia.org/w/api.php?action=query&prop=extracts&\\\n",
    "             rvprop=content&rvsection=0&format=json&pageids={}'.format(pageid)\n",
    "    \n",
    "    my_request = requests.get(query).json()\n",
    "    \n",
    "    no_html_string = striphtml(my_request['query']['pages'][str(pageid)]['extract']).replace('\\n', ' ')\n",
    "    \n",
    "    return strip_punctuation(no_html_string)"
   ]
  },
  {
   "cell_type": "code",
   "execution_count": 195,
   "metadata": {},
   "outputs": [],
   "source": [
    "def search_wiki(category, pages, set_of_categories, levels):\n",
    "   \n",
    "    levels -= 1\n",
    "    df = change_to_df(category)\n",
    "    if levels != -1:\n",
    "    \n",
    "        if check_if_any_sub_categories(category):\n",
    "            if category not in set_of_categories: #to make sure we don't repeat pages\n",
    "                set_of_categories.add(category)\n",
    "                for i in range(len(df)):\n",
    "                    index = df['pageid'][i]\n",
    "            \n",
    "                    if i%15 == 0: #to make sure it is working\n",
    "                        print(category)\n",
    "\n",
    "                    if 'Category:' in df['title'][i]:\n",
    "                        category = df['title'][i]\n",
    "                        category = category.replace('Category:','') #stripping category from the name of the title\n",
    "                        search_wiki(category, pages, set_of_categories, levels) #recursion\n",
    "                \n",
    "                    else:\n",
    "                        page = get_page_contents(index)\n",
    "                        #pages.append([page, 'ML', df['title'][i]])\n",
    "                        pages.update({index: {'page_contents': page,\n",
    "                                     'category': 'ML',\n",
    "                                     'page_tilte': df['title'][i]}})\n",
    "\n",
    "        \n",
    "        else: \n",
    "            for i in range(len(df)):\n",
    "                if i%15 == 0:\n",
    "                    print(category)\n",
    "                index = df['pageid'][i]\n",
    "                page = get_page_contents(index)\n",
    "                #pages.append([page, 'ML', df['title'][i]])\n",
    "                pages.update({index:{'page_contents': page,\n",
    "                            'category': 'ML',\n",
    "                            'page_tilte': df['title'][i]}})\n",
    "                \n",
    "    client = MongoClient('54.245.184.134', 27016)\n",
    "    db_ref = client.wikipedia_database\n",
    "    coll_ref = db_ref.wikipedia_collection\n",
    "    \n",
    "    for keys in pages.keys():\n",
    "        try:\n",
    "            coll_ref.insert_one(pages[keys])\n",
    "        except:\n",
    "            pass\n",
    "            \n",
    "    return pages"
   ]
  },
  {
   "cell_type": "code",
   "execution_count": 196,
   "metadata": {},
   "outputs": [
    {
     "name": "stdout",
     "output_type": "stream",
     "text": [
      "artificial neural networks\n",
      "artificial neural networks\n",
      "artificial neural networks\n",
      "artificial neural networks\n",
      "artificial neural networks\n",
      "artificial neural networks\n",
      "artificial neural networks\n",
      "artificial neural networks\n",
      "artificial neural networks\n",
      "Deep learning\n",
      "Deep learning\n",
      "Neural network software\n",
      "Neural network software\n"
     ]
    }
   ],
   "source": [
    "pages = {}\n",
    "set_of_categories = set()\n",
    "levels = 2\n",
    "\n",
    "p = search_wiki('machine learning', pages, set_of_categories, levels)"
   ]
  },
  {
   "cell_type": "code",
   "execution_count": null,
   "metadata": {
    "collapsed": true
   },
   "outputs": [],
   "source": [
    "pages = []\n",
    "set_of_categories = set()\n",
    "levels = 3\n",
    "b = search_wiki('business software', pages, set_of_categories, levels)"
   ]
  },
  {
   "cell_type": "code",
   "execution_count": null,
   "metadata": {
    "collapsed": true
   },
   "outputs": [],
   "source": [
    "ml_page_contents = pd.DataFrame.from_dict(p, orient = 'index')\n",
    "ml_page_contents.to_pickle('ml.p')"
   ]
  },
  {
   "cell_type": "code",
   "execution_count": null,
   "metadata": {
    "collapsed": true
   },
   "outputs": [],
   "source": [
    "bs_page_contents = pd.DataFrame.from_dict(b, orient = 'index')\n",
    "bs_page_contents.to_pickle('bs.p')"
   ]
  },
  {
   "cell_type": "markdown",
   "metadata": {},
   "source": [
    "### Just playing around with Mongo, feel free to ignore below"
   ]
  },
  {
   "cell_type": "code",
   "execution_count": 163,
   "metadata": {
    "collapsed": true
   },
   "outputs": [],
   "source": [
    "client = MongoClient('54.245.184.134', 27016)"
   ]
  },
  {
   "cell_type": "code",
   "execution_count": 188,
   "metadata": {},
   "outputs": [
    {
     "data": {
      "text/plain": [
       "[u'admin', u'local', u'test', u'wikipedia_database']"
      ]
     },
     "execution_count": 188,
     "metadata": {},
     "output_type": "execute_result"
    }
   ],
   "source": [
    "client.database_names()"
   ]
  },
  {
   "cell_type": "code",
   "execution_count": 184,
   "metadata": {},
   "outputs": [
    {
     "data": {
      "text/plain": [
       "[u'admin', u'local', u'test']"
      ]
     },
     "execution_count": 184,
     "metadata": {},
     "output_type": "execute_result"
    }
   ],
   "source": [
    "db_ref = client.wikipedia_database\n",
    "client.database_names()"
   ]
  },
  {
   "cell_type": "code",
   "execution_count": 167,
   "metadata": {},
   "outputs": [
    {
     "data": {
      "text/plain": [
       "([u'admin', u'local', u'test'], [])"
      ]
     },
     "execution_count": 167,
     "metadata": {},
     "output_type": "execute_result"
    }
   ],
   "source": [
    "coll_ref = db_ref.wikipedia_collection\n",
    "client.database_names(), db_ref.collection_names()"
   ]
  },
  {
   "cell_type": "code",
   "execution_count": 178,
   "metadata": {},
   "outputs": [
    {
     "data": {
      "text/plain": [
       "([u'admin', u'local', u'test', u'wikipedia_database'],\n",
       " [u'wikipedia_collection'])"
      ]
     },
     "execution_count": 178,
     "metadata": {},
     "output_type": "execute_result"
    }
   ],
   "source": [
    "client.database_names(), db_ref.collection_names()"
   ]
  },
  {
   "cell_type": "code",
   "execution_count": 189,
   "metadata": {
    "collapsed": true
   },
   "outputs": [],
   "source": [
    "curs = coll_ref.find()"
   ]
  },
  {
   "cell_type": "code",
   "execution_count": 200,
   "metadata": {},
   "outputs": [
    {
     "data": {
      "text/html": [
       "<div>\n",
       "<style>\n",
       "    .dataframe thead tr:only-child th {\n",
       "        text-align: right;\n",
       "    }\n",
       "\n",
       "    .dataframe thead th {\n",
       "        text-align: left;\n",
       "    }\n",
       "\n",
       "    .dataframe tbody tr th {\n",
       "        vertical-align: top;\n",
       "    }\n",
       "</style>\n",
       "<table border=\"1\" class=\"dataframe\">\n",
       "  <thead>\n",
       "    <tr style=\"text-align: right;\">\n",
       "      <th></th>\n",
       "    </tr>\n",
       "  </thead>\n",
       "  <tbody>\n",
       "  </tbody>\n",
       "</table>\n",
       "</div>"
      ],
      "text/plain": [
       "Empty DataFrame\n",
       "Columns: []\n",
       "Index: []"
      ]
     },
     "execution_count": 200,
     "metadata": {},
     "output_type": "execute_result"
    }
   ],
   "source": [
    "pd.DataFrame(list(coll_ref.find()))"
   ]
  },
  {
   "cell_type": "code",
   "execution_count": 199,
   "metadata": {},
   "outputs": [
    {
     "data": {
      "text/plain": [
       "[]"
      ]
     },
     "execution_count": 199,
     "metadata": {},
     "output_type": "execute_result"
    }
   ],
   "source": [
    "list(curs)"
   ]
  },
  {
   "cell_type": "code",
   "execution_count": 198,
   "metadata": {
    "collapsed": true
   },
   "outputs": [],
   "source": [
    "coll_ref.drop()"
   ]
  }
 ],
 "metadata": {
  "kernelspec": {
   "display_name": "Python 2",
   "language": "python",
   "name": "python2"
  },
  "language_info": {
   "codemirror_mode": {
    "name": "ipython",
    "version": 2
   },
   "file_extension": ".py",
   "mimetype": "text/x-python",
   "name": "python",
   "nbconvert_exporter": "python",
   "pygments_lexer": "ipython2",
   "version": "2.7.13"
  }
 },
 "nbformat": 4,
 "nbformat_minor": 2
}
