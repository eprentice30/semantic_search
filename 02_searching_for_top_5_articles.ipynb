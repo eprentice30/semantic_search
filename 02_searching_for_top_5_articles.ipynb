{
 "cells": [
  {
   "cell_type": "code",
   "execution_count": 1,
   "metadata": {
    "collapsed": true
   },
   "outputs": [],
   "source": [
    "import re\n",
    "import requests\n",
    "import pandas as pd\n",
    "import numpy as np\n",
    "import string\n",
    "from string import punctuation\n",
    "from pymongo import MongoClient\n",
    "\n",
    "import matplotlib.pyplot as plt\n",
    "%matplotlib inline\n",
    "\n",
    "import seaborn as sns\n",
    "\n",
    "from IPython.display import display\n",
    "from scipy import stats\n",
    "from sklearn.model_selection import train_test_split\n",
    "\n",
    "%matplotlib inline \n",
    "np.random.seed(42)\n",
    "\n",
    "from sklearn.preprocessing import LabelEncoder"
   ]
  },
  {
   "cell_type": "markdown",
   "metadata": {},
   "source": [
    "### I saved the page contents two different ways\n",
    "- Written to a MongoDB server\n",
    "- Pickled \"Machine learning\" and \"Business software\" pages (3 nested levels deep each)"
   ]
  },
  {
   "cell_type": "markdown",
   "metadata": {},
   "source": [
    "### This is using the pickled data"
   ]
  },
  {
   "cell_type": "code",
   "execution_count": 107,
   "metadata": {
    "collapsed": true
   },
   "outputs": [],
   "source": [
    "ml_df = pd.read_pickle('ml.p')\n",
    "bs_df = pd.read_pickle('bs.p')"
   ]
  },
  {
   "cell_type": "code",
   "execution_count": 108,
   "metadata": {
    "collapsed": true
   },
   "outputs": [],
   "source": [
    "corpus_df = pd.concat([ml_df, bs_df])"
   ]
  },
  {
   "cell_type": "code",
   "execution_count": 111,
   "metadata": {},
   "outputs": [
    {
     "data": {
      "text/html": [
       "<div>\n",
       "<style>\n",
       "    .dataframe thead tr:only-child th {\n",
       "        text-align: right;\n",
       "    }\n",
       "\n",
       "    .dataframe thead th {\n",
       "        text-align: left;\n",
       "    }\n",
       "\n",
       "    .dataframe tbody tr th {\n",
       "        vertical-align: top;\n",
       "    }\n",
       "</style>\n",
       "<table border=\"1\" class=\"dataframe\">\n",
       "  <thead>\n",
       "    <tr style=\"text-align: right;\">\n",
       "      <th></th>\n",
       "      <th>category</th>\n",
       "      <th>page_tilte</th>\n",
       "      <th>page_contents</th>\n",
       "    </tr>\n",
       "  </thead>\n",
       "  <tbody>\n",
       "    <tr>\n",
       "      <th>12424</th>\n",
       "      <td>ML</td>\n",
       "      <td>Genetic programming</td>\n",
       "      <td>In artificial intelligence genetic programming...</td>\n",
       "    </tr>\n",
       "    <tr>\n",
       "      <th>20412</th>\n",
       "      <td>ML</td>\n",
       "      <td>MATLAB</td>\n",
       "      <td>MATLAB matrix laboratory is a multiparadigm nu...</td>\n",
       "    </tr>\n",
       "    <tr>\n",
       "      <th>20926</th>\n",
       "      <td>ML</td>\n",
       "      <td>Supervised learning</td>\n",
       "      <td>Supervised learning is the machine learning ta...</td>\n",
       "    </tr>\n",
       "    <tr>\n",
       "      <th>21523</th>\n",
       "      <td>ML</td>\n",
       "      <td>Artificial neural network</td>\n",
       "      <td>Artificial neural networks ANNs or connectioni...</td>\n",
       "    </tr>\n",
       "    <tr>\n",
       "      <th>25984</th>\n",
       "      <td>ML</td>\n",
       "      <td>Ray Kurzweil</td>\n",
       "      <td>Raymond Ray Kurzweil  KURZwyl born February 12...</td>\n",
       "    </tr>\n",
       "  </tbody>\n",
       "</table>\n",
       "</div>"
      ],
      "text/plain": [
       "      category                 page_tilte  \\\n",
       "12424       ML        Genetic programming   \n",
       "20412       ML                     MATLAB   \n",
       "20926       ML        Supervised learning   \n",
       "21523       ML  Artificial neural network   \n",
       "25984       ML               Ray Kurzweil   \n",
       "\n",
       "                                           page_contents  \n",
       "12424  In artificial intelligence genetic programming...  \n",
       "20412  MATLAB matrix laboratory is a multiparadigm nu...  \n",
       "20926  Supervised learning is the machine learning ta...  \n",
       "21523  Artificial neural networks ANNs or connectioni...  \n",
       "25984  Raymond Ray Kurzweil  KURZwyl born February 12...  "
      ]
     },
     "execution_count": 111,
     "metadata": {},
     "output_type": "execute_result"
    }
   ],
   "source": [
    "corpus_df.head()"
   ]
  },
  {
   "cell_type": "markdown",
   "metadata": {},
   "source": [
    "### This is using data from the MongoDB server (recommended)"
   ]
  },
  {
   "cell_type": "code",
   "execution_count": 2,
   "metadata": {
    "collapsed": true
   },
   "outputs": [],
   "source": [
    "client = MongoClient('54.245.184.134', 27016)\n",
    "db_ref = client.wikipedia_database\n",
    "coll_ref = db_ref.wikipedia_collection\n",
    "\n",
    "\n",
    "corpus_df = pd.DataFrame(list(coll_ref.find()))"
   ]
  },
  {
   "cell_type": "code",
   "execution_count": 4,
   "metadata": {},
   "outputs": [
    {
     "data": {
      "text/html": [
       "<div>\n",
       "<style>\n",
       "    .dataframe thead tr:only-child th {\n",
       "        text-align: right;\n",
       "    }\n",
       "\n",
       "    .dataframe thead th {\n",
       "        text-align: left;\n",
       "    }\n",
       "\n",
       "    .dataframe tbody tr th {\n",
       "        vertical-align: top;\n",
       "    }\n",
       "</style>\n",
       "<table border=\"1\" class=\"dataframe\">\n",
       "  <thead>\n",
       "    <tr style=\"text-align: right;\">\n",
       "      <th></th>\n",
       "      <th>_id</th>\n",
       "      <th>category</th>\n",
       "      <th>page_contents</th>\n",
       "      <th>page_title</th>\n",
       "    </tr>\n",
       "  </thead>\n",
       "  <tbody>\n",
       "    <tr>\n",
       "      <th>4329</th>\n",
       "      <td>5a24d03ddd01662634004d4a</td>\n",
       "      <td>machine learning</td>\n",
       "      <td>Quantum machine learning is an emerging interd...</td>\n",
       "      <td>Quantum machine learning</td>\n",
       "    </tr>\n",
       "    <tr>\n",
       "      <th>2543</th>\n",
       "      <td>5a249b77dd016621942e6753</td>\n",
       "      <td>Free groupware</td>\n",
       "      <td>phpBB is an Internet forum package in the PHP ...</td>\n",
       "      <td>PhpBB</td>\n",
       "    </tr>\n",
       "    <tr>\n",
       "      <th>3526</th>\n",
       "      <td>5a24b766dd016621942e6b7e</td>\n",
       "      <td>Automatic Data Processing</td>\n",
       "      <td></td>\n",
       "      <td>File:Automatic Data Processing (logo).svg</td>\n",
       "    </tr>\n",
       "    <tr>\n",
       "      <th>302</th>\n",
       "      <td>5a248632dd0166215cc2b350</td>\n",
       "      <td>Deep learning</td>\n",
       "      <td>Hierarchical temporal memory HTM is a biologic...</td>\n",
       "      <td>Hierarchical temporal memory</td>\n",
       "    </tr>\n",
       "    <tr>\n",
       "      <th>1022</th>\n",
       "      <td>5a248c60dd0166215cc2b642</td>\n",
       "      <td>Learning in computer vision</td>\n",
       "      <td>ImageNets is an open source and platform indep...</td>\n",
       "      <td>ImageNets</td>\n",
       "    </tr>\n",
       "    <tr>\n",
       "      <th>2811</th>\n",
       "      <td>5a24a09fdd016621942e6872</td>\n",
       "      <td>ERP software companies</td>\n",
       "      <td>Comarch is a Polish multinational software hou...</td>\n",
       "      <td>Comarch</td>\n",
       "    </tr>\n",
       "    <tr>\n",
       "      <th>2586</th>\n",
       "      <td>5a249c65dd016621942e6782</td>\n",
       "      <td>Collaborative real-time editors</td>\n",
       "      <td>Etherpad previously known as EtherPad is an op...</td>\n",
       "      <td>Etherpad</td>\n",
       "    </tr>\n",
       "    <tr>\n",
       "      <th>2098</th>\n",
       "      <td>5a24968add016621942e6580</td>\n",
       "      <td>Financial software companies</td>\n",
       "      <td>Blackbaud Inc NASDAQBLKB is a supplier of soft...</td>\n",
       "      <td>Blackbaud</td>\n",
       "    </tr>\n",
       "    <tr>\n",
       "      <th>2515</th>\n",
       "      <td>5a249a62dd016621942e6732</td>\n",
       "      <td>Groupware</td>\n",
       "      <td>GNU Ring formerly SFLphone is a SIPcompatible ...</td>\n",
       "      <td>Ring (software)</td>\n",
       "    </tr>\n",
       "    <tr>\n",
       "      <th>2880</th>\n",
       "      <td>5a24a0dcdd016621942e68b7</td>\n",
       "      <td>ERP software companies</td>\n",
       "      <td>Visma is a privately held company based in Osl...</td>\n",
       "      <td>Visma</td>\n",
       "    </tr>\n",
       "  </tbody>\n",
       "</table>\n",
       "</div>"
      ],
      "text/plain": [
       "                           _id                         category  \\\n",
       "4329  5a24d03ddd01662634004d4a                 machine learning   \n",
       "2543  5a249b77dd016621942e6753                   Free groupware   \n",
       "3526  5a24b766dd016621942e6b7e        Automatic Data Processing   \n",
       "302   5a248632dd0166215cc2b350                    Deep learning   \n",
       "1022  5a248c60dd0166215cc2b642      Learning in computer vision   \n",
       "2811  5a24a09fdd016621942e6872           ERP software companies   \n",
       "2586  5a249c65dd016621942e6782  Collaborative real-time editors   \n",
       "2098  5a24968add016621942e6580     Financial software companies   \n",
       "2515  5a249a62dd016621942e6732                        Groupware   \n",
       "2880  5a24a0dcdd016621942e68b7           ERP software companies   \n",
       "\n",
       "                                          page_contents  \\\n",
       "4329  Quantum machine learning is an emerging interd...   \n",
       "2543  phpBB is an Internet forum package in the PHP ...   \n",
       "3526                                                      \n",
       "302   Hierarchical temporal memory HTM is a biologic...   \n",
       "1022  ImageNets is an open source and platform indep...   \n",
       "2811  Comarch is a Polish multinational software hou...   \n",
       "2586  Etherpad previously known as EtherPad is an op...   \n",
       "2098  Blackbaud Inc NASDAQBLKB is a supplier of soft...   \n",
       "2515  GNU Ring formerly SFLphone is a SIPcompatible ...   \n",
       "2880  Visma is a privately held company based in Osl...   \n",
       "\n",
       "                                     page_title  \n",
       "4329                   Quantum machine learning  \n",
       "2543                                      PhpBB  \n",
       "3526  File:Automatic Data Processing (logo).svg  \n",
       "302                Hierarchical temporal memory  \n",
       "1022                                  ImageNets  \n",
       "2811                                    Comarch  \n",
       "2586                                   Etherpad  \n",
       "2098                                  Blackbaud  \n",
       "2515                            Ring (software)  \n",
       "2880                                      Visma  "
      ]
     },
     "execution_count": 4,
     "metadata": {},
     "output_type": "execute_result"
    }
   ],
   "source": [
    "corpus_df.sample(10)"
   ]
  },
  {
   "cell_type": "code",
   "execution_count": 5,
   "metadata": {
    "collapsed": true
   },
   "outputs": [],
   "source": [
    "from sklearn.feature_extraction.text import TfidfVectorizer"
   ]
  },
  {
   "cell_type": "code",
   "execution_count": 6,
   "metadata": {
    "collapsed": true
   },
   "outputs": [],
   "source": [
    "tfidf_vectorizer = TfidfVectorizer(min_df = 1, stop_words = 'english')"
   ]
  },
  {
   "cell_type": "code",
   "execution_count": 7,
   "metadata": {
    "collapsed": true
   },
   "outputs": [],
   "source": [
    "document_term_matrix_sps = tfidf_vectorizer.fit_transform(corpus_df.page_contents)"
   ]
  },
  {
   "cell_type": "code",
   "execution_count": 8,
   "metadata": {
    "collapsed": true
   },
   "outputs": [],
   "source": [
    "document_term_matrix_df = pd.DataFrame(document_term_matrix_sps.toarray(),\n",
    "                                       index=corpus_df.index,\n",
    "                                       columns=tfidf_vectorizer.get_feature_names())"
   ]
  },
  {
   "cell_type": "code",
   "execution_count": 9,
   "metadata": {},
   "outputs": [
    {
     "data": {
      "text/html": [
       "<div>\n",
       "<style>\n",
       "    .dataframe thead tr:only-child th {\n",
       "        text-align: right;\n",
       "    }\n",
       "\n",
       "    .dataframe thead th {\n",
       "        text-align: left;\n",
       "    }\n",
       "\n",
       "    .dataframe tbody tr th {\n",
       "        vertical-align: top;\n",
       "    }\n",
       "</style>\n",
       "<table border=\"1\" class=\"dataframe\">\n",
       "  <thead>\n",
       "    <tr style=\"text-align: right;\">\n",
       "      <th></th>\n",
       "      <th>page_contents</th>\n",
       "      <th>00</th>\n",
       "      <th>000</th>\n",
       "      <th>000001</th>\n",
       "      <th>00001</th>\n",
       "      <th>0001</th>\n",
       "      <th>000198</th>\n",
       "      <th>000198ttt01584tft000198ttt0288ttf01584tft00tfffrac</th>\n",
       "      <th>0001l</th>\n",
       "      <th>0002</th>\n",
       "      <th>...</th>\n",
       "      <th>金融帝国ii</th>\n",
       "      <th>金融帝國ii</th>\n",
       "      <th>電話</th>\n",
       "      <th>飲む</th>\n",
       "      <th>高橋書店ゲーム攻略本シリーズ</th>\n",
       "      <th>자이오넥스</th>\n",
       "      <th>ﬂexibility</th>\n",
       "      <th>ﬂock</th>\n",
       "      <th>ﬂocking</th>\n",
       "      <th>ａ列車で行こうｍｄ</th>\n",
       "    </tr>\n",
       "  </thead>\n",
       "  <tbody>\n",
       "    <tr>\n",
       "      <th>903</th>\n",
       "      <td>Linear genetic programming is unrelated to lin...</td>\n",
       "      <td>0.0</td>\n",
       "      <td>0.0</td>\n",
       "      <td>0.0</td>\n",
       "      <td>0.0</td>\n",
       "      <td>0.0</td>\n",
       "      <td>0.0</td>\n",
       "      <td>0.0</td>\n",
       "      <td>0.0</td>\n",
       "      <td>0.0</td>\n",
       "      <td>...</td>\n",
       "      <td>0.0</td>\n",
       "      <td>0.0</td>\n",
       "      <td>0.0</td>\n",
       "      <td>0.0</td>\n",
       "      <td>0.0</td>\n",
       "      <td>0.0</td>\n",
       "      <td>0.0</td>\n",
       "      <td>0.0</td>\n",
       "      <td>0.0</td>\n",
       "      <td>0.0</td>\n",
       "    </tr>\n",
       "    <tr>\n",
       "      <th>3142</th>\n",
       "      <td>Palo is a memory resident multidimensional onl...</td>\n",
       "      <td>0.0</td>\n",
       "      <td>0.0</td>\n",
       "      <td>0.0</td>\n",
       "      <td>0.0</td>\n",
       "      <td>0.0</td>\n",
       "      <td>0.0</td>\n",
       "      <td>0.0</td>\n",
       "      <td>0.0</td>\n",
       "      <td>0.0</td>\n",
       "      <td>...</td>\n",
       "      <td>0.0</td>\n",
       "      <td>0.0</td>\n",
       "      <td>0.0</td>\n",
       "      <td>0.0</td>\n",
       "      <td>0.0</td>\n",
       "      <td>0.0</td>\n",
       "      <td>0.0</td>\n",
       "      <td>0.0</td>\n",
       "      <td>0.0</td>\n",
       "      <td>0.0</td>\n",
       "    </tr>\n",
       "    <tr>\n",
       "      <th>2807</th>\n",
       "      <td>JFire was an Enterprise Resource Planning and ...</td>\n",
       "      <td>0.0</td>\n",
       "      <td>0.0</td>\n",
       "      <td>0.0</td>\n",
       "      <td>0.0</td>\n",
       "      <td>0.0</td>\n",
       "      <td>0.0</td>\n",
       "      <td>0.0</td>\n",
       "      <td>0.0</td>\n",
       "      <td>0.0</td>\n",
       "      <td>...</td>\n",
       "      <td>0.0</td>\n",
       "      <td>0.0</td>\n",
       "      <td>0.0</td>\n",
       "      <td>0.0</td>\n",
       "      <td>0.0</td>\n",
       "      <td>0.0</td>\n",
       "      <td>0.0</td>\n",
       "      <td>0.0</td>\n",
       "      <td>0.0</td>\n",
       "      <td>0.0</td>\n",
       "    </tr>\n",
       "    <tr>\n",
       "      <th>875</th>\n",
       "      <td>The weasel program Dawkins weasel or the Dawki...</td>\n",
       "      <td>0.0</td>\n",
       "      <td>0.0</td>\n",
       "      <td>0.0</td>\n",
       "      <td>0.0</td>\n",
       "      <td>0.0</td>\n",
       "      <td>0.0</td>\n",
       "      <td>0.0</td>\n",
       "      <td>0.0</td>\n",
       "      <td>0.0</td>\n",
       "      <td>...</td>\n",
       "      <td>0.0</td>\n",
       "      <td>0.0</td>\n",
       "      <td>0.0</td>\n",
       "      <td>0.0</td>\n",
       "      <td>0.0</td>\n",
       "      <td>0.0</td>\n",
       "      <td>0.0</td>\n",
       "      <td>0.0</td>\n",
       "      <td>0.0</td>\n",
       "      <td>0.0</td>\n",
       "    </tr>\n",
       "  </tbody>\n",
       "</table>\n",
       "<p>4 rows × 87068 columns</p>\n",
       "</div>"
      ],
      "text/plain": [
       "                                          page_contents   00  000  000001  \\\n",
       "903   Linear genetic programming is unrelated to lin...  0.0  0.0     0.0   \n",
       "3142  Palo is a memory resident multidimensional onl...  0.0  0.0     0.0   \n",
       "2807  JFire was an Enterprise Resource Planning and ...  0.0  0.0     0.0   \n",
       "875   The weasel program Dawkins weasel or the Dawki...  0.0  0.0     0.0   \n",
       "\n",
       "      00001  0001  000198  000198ttt01584tft000198ttt0288ttf01584tft00tfffrac  \\\n",
       "903     0.0   0.0     0.0                                                0.0    \n",
       "3142    0.0   0.0     0.0                                                0.0    \n",
       "2807    0.0   0.0     0.0                                                0.0    \n",
       "875     0.0   0.0     0.0                                                0.0    \n",
       "\n",
       "      0001l  0002    ...      金融帝国ii  金融帝國ii   電話   飲む  高橋書店ゲーム攻略本シリーズ  자이오넥스  \\\n",
       "903     0.0   0.0    ...         0.0     0.0  0.0  0.0             0.0    0.0   \n",
       "3142    0.0   0.0    ...         0.0     0.0  0.0  0.0             0.0    0.0   \n",
       "2807    0.0   0.0    ...         0.0     0.0  0.0  0.0             0.0    0.0   \n",
       "875     0.0   0.0    ...         0.0     0.0  0.0  0.0             0.0    0.0   \n",
       "\n",
       "      ﬂexibility  ﬂock  ﬂocking  ａ列車で行こうｍｄ  \n",
       "903          0.0   0.0      0.0        0.0  \n",
       "3142         0.0   0.0      0.0        0.0  \n",
       "2807         0.0   0.0      0.0        0.0  \n",
       "875          0.0   0.0      0.0        0.0  \n",
       "\n",
       "[4 rows x 87068 columns]"
      ]
     },
     "execution_count": 9,
     "metadata": {},
     "output_type": "execute_result"
    }
   ],
   "source": [
    "pd.concat([corpus_df.page_contents, document_term_matrix_df], axis=1).sample(4)"
   ]
  },
  {
   "cell_type": "code",
   "execution_count": 10,
   "metadata": {
    "collapsed": true
   },
   "outputs": [],
   "source": [
    "from sklearn.decomposition import TruncatedSVD"
   ]
  },
  {
   "cell_type": "code",
   "execution_count": 11,
   "metadata": {
    "collapsed": true
   },
   "outputs": [],
   "source": [
    "n_components = 300\n",
    "SVD = TruncatedSVD(n_components)\n",
    "component_names = [\"component_\"+str(i+1) for i in range(n_components)]"
   ]
  },
  {
   "cell_type": "code",
   "execution_count": 12,
   "metadata": {
    "collapsed": true
   },
   "outputs": [],
   "source": [
    "svd_matrix = SVD.fit_transform(document_term_matrix_df)"
   ]
  },
  {
   "cell_type": "code",
   "execution_count": 13,
   "metadata": {},
   "outputs": [
    {
     "data": {
      "text/plain": [
       "0.35335004561591754"
      ]
     },
     "execution_count": 13,
     "metadata": {},
     "output_type": "execute_result"
    }
   ],
   "source": [
    "np.sum(SVD.explained_variance_ratio_)"
   ]
  },
  {
   "cell_type": "code",
   "execution_count": 14,
   "metadata": {
    "collapsed": true
   },
   "outputs": [],
   "source": [
    "latent_semantic_analysis = pd.DataFrame(svd_matrix,\n",
    "                                        index=document_term_matrix_df.index,\n",
    "                                        columns=component_names)\n",
    "latent_semantic_analysis['page_contents'] = corpus_df.page_contents\n",
    "latent_semantic_analysis['title'] = corpus_df.page_title"
   ]
  },
  {
   "cell_type": "code",
   "execution_count": 15,
   "metadata": {},
   "outputs": [
    {
     "data": {
      "text/html": [
       "<div>\n",
       "<style>\n",
       "    .dataframe thead tr:only-child th {\n",
       "        text-align: right;\n",
       "    }\n",
       "\n",
       "    .dataframe thead th {\n",
       "        text-align: left;\n",
       "    }\n",
       "\n",
       "    .dataframe tbody tr th {\n",
       "        vertical-align: top;\n",
       "    }\n",
       "</style>\n",
       "<table border=\"1\" class=\"dataframe\">\n",
       "  <thead>\n",
       "    <tr style=\"text-align: right;\">\n",
       "      <th></th>\n",
       "      <th>component_1</th>\n",
       "      <th>component_2</th>\n",
       "      <th>component_3</th>\n",
       "      <th>component_4</th>\n",
       "      <th>component_5</th>\n",
       "      <th>component_6</th>\n",
       "      <th>component_7</th>\n",
       "      <th>component_8</th>\n",
       "      <th>component_9</th>\n",
       "      <th>component_10</th>\n",
       "      <th>...</th>\n",
       "      <th>component_293</th>\n",
       "      <th>component_294</th>\n",
       "      <th>component_295</th>\n",
       "      <th>component_296</th>\n",
       "      <th>component_297</th>\n",
       "      <th>component_298</th>\n",
       "      <th>component_299</th>\n",
       "      <th>component_300</th>\n",
       "      <th>page_contents</th>\n",
       "      <th>title</th>\n",
       "    </tr>\n",
       "  </thead>\n",
       "  <tbody>\n",
       "    <tr>\n",
       "      <th>1513</th>\n",
       "      <td>0.067674</td>\n",
       "      <td>0.155391</td>\n",
       "      <td>-0.060427</td>\n",
       "      <td>-0.012821</td>\n",
       "      <td>-0.087862</td>\n",
       "      <td>-0.022598</td>\n",
       "      <td>-0.042114</td>\n",
       "      <td>-0.023480</td>\n",
       "      <td>-0.037189</td>\n",
       "      <td>-0.038193</td>\n",
       "      <td>...</td>\n",
       "      <td>0.013989</td>\n",
       "      <td>-0.005269</td>\n",
       "      <td>-0.016745</td>\n",
       "      <td>-0.001041</td>\n",
       "      <td>0.010180</td>\n",
       "      <td>-0.021153</td>\n",
       "      <td>-0.001900</td>\n",
       "      <td>0.017872</td>\n",
       "      <td>Get Satisfaction is a customer community softw...</td>\n",
       "      <td>Get Satisfaction</td>\n",
       "    </tr>\n",
       "    <tr>\n",
       "      <th>1192</th>\n",
       "      <td>0.125714</td>\n",
       "      <td>0.110448</td>\n",
       "      <td>0.203185</td>\n",
       "      <td>0.003921</td>\n",
       "      <td>-0.034661</td>\n",
       "      <td>0.014937</td>\n",
       "      <td>-0.045996</td>\n",
       "      <td>-0.069583</td>\n",
       "      <td>-0.181230</td>\n",
       "      <td>0.076562</td>\n",
       "      <td>...</td>\n",
       "      <td>0.021044</td>\n",
       "      <td>-0.013238</td>\n",
       "      <td>0.010360</td>\n",
       "      <td>-0.002464</td>\n",
       "      <td>-0.013335</td>\n",
       "      <td>-0.012884</td>\n",
       "      <td>-0.002860</td>\n",
       "      <td>-0.005660</td>\n",
       "      <td>Jaime Guillermo Carbonell born July 29 1953 is...</td>\n",
       "      <td>Jaime Carbonell</td>\n",
       "    </tr>\n",
       "    <tr>\n",
       "      <th>3156</th>\n",
       "      <td>0.079726</td>\n",
       "      <td>0.193538</td>\n",
       "      <td>-0.071775</td>\n",
       "      <td>-0.086850</td>\n",
       "      <td>0.086289</td>\n",
       "      <td>0.120314</td>\n",
       "      <td>0.075462</td>\n",
       "      <td>-0.011626</td>\n",
       "      <td>-0.021798</td>\n",
       "      <td>-0.020229</td>\n",
       "      <td>...</td>\n",
       "      <td>-0.015720</td>\n",
       "      <td>-0.025364</td>\n",
       "      <td>0.018442</td>\n",
       "      <td>-0.017180</td>\n",
       "      <td>-0.008082</td>\n",
       "      <td>-0.036944</td>\n",
       "      <td>-0.009276</td>\n",
       "      <td>0.006938</td>\n",
       "      <td>Moqui is an open source enterprise resource pl...</td>\n",
       "      <td>Moqui</td>\n",
       "    </tr>\n",
       "    <tr>\n",
       "      <th>2602</th>\n",
       "      <td>0.051434</td>\n",
       "      <td>0.099882</td>\n",
       "      <td>-0.014902</td>\n",
       "      <td>-0.025420</td>\n",
       "      <td>0.045325</td>\n",
       "      <td>-0.014064</td>\n",
       "      <td>-0.021402</td>\n",
       "      <td>-0.008719</td>\n",
       "      <td>-0.006276</td>\n",
       "      <td>0.008389</td>\n",
       "      <td>...</td>\n",
       "      <td>-0.002201</td>\n",
       "      <td>-0.010815</td>\n",
       "      <td>0.008486</td>\n",
       "      <td>-0.006319</td>\n",
       "      <td>0.006397</td>\n",
       "      <td>0.021660</td>\n",
       "      <td>-0.003375</td>\n",
       "      <td>0.006941</td>\n",
       "      <td>CoCalc formerly called SageMathCloud is a webb...</td>\n",
       "      <td>CoCalc</td>\n",
       "    </tr>\n",
       "  </tbody>\n",
       "</table>\n",
       "<p>4 rows × 302 columns</p>\n",
       "</div>"
      ],
      "text/plain": [
       "      component_1  component_2  component_3  component_4  component_5  \\\n",
       "1513     0.067674     0.155391    -0.060427    -0.012821    -0.087862   \n",
       "1192     0.125714     0.110448     0.203185     0.003921    -0.034661   \n",
       "3156     0.079726     0.193538    -0.071775    -0.086850     0.086289   \n",
       "2602     0.051434     0.099882    -0.014902    -0.025420     0.045325   \n",
       "\n",
       "      component_6  component_7  component_8  component_9  component_10  \\\n",
       "1513    -0.022598    -0.042114    -0.023480    -0.037189     -0.038193   \n",
       "1192     0.014937    -0.045996    -0.069583    -0.181230      0.076562   \n",
       "3156     0.120314     0.075462    -0.011626    -0.021798     -0.020229   \n",
       "2602    -0.014064    -0.021402    -0.008719    -0.006276      0.008389   \n",
       "\n",
       "            ...         component_293  component_294  component_295  \\\n",
       "1513        ...              0.013989      -0.005269      -0.016745   \n",
       "1192        ...              0.021044      -0.013238       0.010360   \n",
       "3156        ...             -0.015720      -0.025364       0.018442   \n",
       "2602        ...             -0.002201      -0.010815       0.008486   \n",
       "\n",
       "      component_296  component_297  component_298  component_299  \\\n",
       "1513      -0.001041       0.010180      -0.021153      -0.001900   \n",
       "1192      -0.002464      -0.013335      -0.012884      -0.002860   \n",
       "3156      -0.017180      -0.008082      -0.036944      -0.009276   \n",
       "2602      -0.006319       0.006397       0.021660      -0.003375   \n",
       "\n",
       "      component_300                                      page_contents  \\\n",
       "1513       0.017872  Get Satisfaction is a customer community softw...   \n",
       "1192      -0.005660  Jaime Guillermo Carbonell born July 29 1953 is...   \n",
       "3156       0.006938  Moqui is an open source enterprise resource pl...   \n",
       "2602       0.006941  CoCalc formerly called SageMathCloud is a webb...   \n",
       "\n",
       "                 title  \n",
       "1513  Get Satisfaction  \n",
       "1192   Jaime Carbonell  \n",
       "3156             Moqui  \n",
       "2602            CoCalc  \n",
       "\n",
       "[4 rows x 302 columns]"
      ]
     },
     "execution_count": 15,
     "metadata": {},
     "output_type": "execute_result"
    }
   ],
   "source": [
    "latent_semantic_analysis.sample(4)"
   ]
  },
  {
   "cell_type": "markdown",
   "metadata": {},
   "source": [
    "### Using Cosine similarities to find the top 5 related articles for a given search word"
   ]
  },
  {
   "cell_type": "code",
   "execution_count": 36,
   "metadata": {
    "collapsed": true
   },
   "outputs": [],
   "source": [
    "search_term = 'clustering'\n",
    "search_term_vec = tfidf_vectorizer.transform([search_term])\n",
    "search_term_lsa = SVD.transform(search_term_vec)"
   ]
  },
  {
   "cell_type": "code",
   "execution_count": 37,
   "metadata": {
    "collapsed": true
   },
   "outputs": [],
   "source": [
    "cosine_similarities = svd_matrix.dot(search_term_lsa.T).ravel()"
   ]
  },
  {
   "cell_type": "code",
   "execution_count": 38,
   "metadata": {
    "collapsed": true
   },
   "outputs": [],
   "source": [
    "indexes = cosine_similarities.argsort()[:-6:-1]\n"
   ]
  },
  {
   "cell_type": "code",
   "execution_count": 39,
   "metadata": {},
   "outputs": [
    {
     "name": "stdout",
     "output_type": "stream",
     "text": [
      "Cluster analysis\n",
      "Consensus clustering\n",
      "Single-linkage clustering\n",
      "Hierarchical clustering\n",
      "Correlation clustering\n"
     ]
    }
   ],
   "source": [
    "for i in indexes:\n",
    "\n",
    "    print(corpus_df.iloc[i]['page_title'])"
   ]
  }
 ],
 "metadata": {
  "kernelspec": {
   "display_name": "Python 2",
   "language": "python",
   "name": "python2"
  },
  "language_info": {
   "codemirror_mode": {
    "name": "ipython",
    "version": 2
   },
   "file_extension": ".py",
   "mimetype": "text/x-python",
   "name": "python",
   "nbconvert_exporter": "python",
   "pygments_lexer": "ipython2",
   "version": "2.7.13"
  }
 },
 "nbformat": 4,
 "nbformat_minor": 2
}
